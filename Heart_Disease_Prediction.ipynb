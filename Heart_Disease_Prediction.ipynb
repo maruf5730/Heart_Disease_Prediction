{
  "nbformat": 4,
  "nbformat_minor": 0,
  "metadata": {
    "colab": {
      "provenance": []
    },
    "kernelspec": {
      "name": "python3",
      "display_name": "Python 3"
    },
    "language_info": {
      "name": "python"
    }
  },
  "cells": [
    {
      "cell_type": "code",
      "execution_count": null,
      "metadata": {
        "id": "06LkopiwKAA6"
      },
      "outputs": [],
      "source": [
        "import numpy as np\n",
        "import pandas as pd\n",
        "import matplotlib.pyplot as plt\n",
        "import seaborn as sns"
      ]
    },
    {
      "cell_type": "code",
      "source": [
        "# URL = 'https://drive.google.com/file/d/1RxokJrLFbeqtHk6RtYyl1XeOQv7AJ-PO/view?usp=sharing'\n",
        "# path = 'https://drive.google.com/uc?export=download&id='+URL.split('/')[-2]\n",
        "df = pd.read_csv(\"/content/heartdisease project Dataset.csv\")\n",
        "df.head(8)"
      ],
      "metadata": {
        "colab": {
          "base_uri": "https://localhost:8080/",
          "height": 300
        },
        "id": "lEyIbMiBu5Za",
        "outputId": "ecf9deef-d003-4e51-8601-daf4edba57fd"
      },
      "execution_count": null,
      "outputs": [
        {
          "output_type": "execute_result",
          "data": {
            "text/plain": [
              "   age  sex  cp  trestbps  chol  fbs  restecg  thalach  exang  oldpeak  slope  \\\n",
              "0   52    1   0       125   212    0        1      168      0      1.0      2   \n",
              "1   53    1   0       140   203    1        0      155      1      3.1      0   \n",
              "2   70    1   0       145   174    0        1      125      1      2.6      0   \n",
              "3   61    1   0       148   203    0        1      161      0      0.0      2   \n",
              "4   62    0   0       138   294    1        1      106      0      1.9      1   \n",
              "5   58    0   0       100   248    0        0      122      0      1.0      1   \n",
              "6   58    1   0       114   318    0        2      140      0      4.4      0   \n",
              "7   55    1   0       160   289    0        0      145      1      0.8      1   \n",
              "\n",
              "   ca  thal  target  \n",
              "0   2     3       0  \n",
              "1   0     3       0  \n",
              "2   0     3       0  \n",
              "3   1     3       0  \n",
              "4   3     2       0  \n",
              "5   0     2       1  \n",
              "6   3     1       0  \n",
              "7   1     3       0  "
            ],
            "text/html": [
              "\n",
              "  <div id=\"df-0f41f673-55d0-4616-a839-7e9c8101b4dd\" class=\"colab-df-container\">\n",
              "    <div>\n",
              "<style scoped>\n",
              "    .dataframe tbody tr th:only-of-type {\n",
              "        vertical-align: middle;\n",
              "    }\n",
              "\n",
              "    .dataframe tbody tr th {\n",
              "        vertical-align: top;\n",
              "    }\n",
              "\n",
              "    .dataframe thead th {\n",
              "        text-align: right;\n",
              "    }\n",
              "</style>\n",
              "<table border=\"1\" class=\"dataframe\">\n",
              "  <thead>\n",
              "    <tr style=\"text-align: right;\">\n",
              "      <th></th>\n",
              "      <th>age</th>\n",
              "      <th>sex</th>\n",
              "      <th>cp</th>\n",
              "      <th>trestbps</th>\n",
              "      <th>chol</th>\n",
              "      <th>fbs</th>\n",
              "      <th>restecg</th>\n",
              "      <th>thalach</th>\n",
              "      <th>exang</th>\n",
              "      <th>oldpeak</th>\n",
              "      <th>slope</th>\n",
              "      <th>ca</th>\n",
              "      <th>thal</th>\n",
              "      <th>target</th>\n",
              "    </tr>\n",
              "  </thead>\n",
              "  <tbody>\n",
              "    <tr>\n",
              "      <th>0</th>\n",
              "      <td>52</td>\n",
              "      <td>1</td>\n",
              "      <td>0</td>\n",
              "      <td>125</td>\n",
              "      <td>212</td>\n",
              "      <td>0</td>\n",
              "      <td>1</td>\n",
              "      <td>168</td>\n",
              "      <td>0</td>\n",
              "      <td>1.0</td>\n",
              "      <td>2</td>\n",
              "      <td>2</td>\n",
              "      <td>3</td>\n",
              "      <td>0</td>\n",
              "    </tr>\n",
              "    <tr>\n",
              "      <th>1</th>\n",
              "      <td>53</td>\n",
              "      <td>1</td>\n",
              "      <td>0</td>\n",
              "      <td>140</td>\n",
              "      <td>203</td>\n",
              "      <td>1</td>\n",
              "      <td>0</td>\n",
              "      <td>155</td>\n",
              "      <td>1</td>\n",
              "      <td>3.1</td>\n",
              "      <td>0</td>\n",
              "      <td>0</td>\n",
              "      <td>3</td>\n",
              "      <td>0</td>\n",
              "    </tr>\n",
              "    <tr>\n",
              "      <th>2</th>\n",
              "      <td>70</td>\n",
              "      <td>1</td>\n",
              "      <td>0</td>\n",
              "      <td>145</td>\n",
              "      <td>174</td>\n",
              "      <td>0</td>\n",
              "      <td>1</td>\n",
              "      <td>125</td>\n",
              "      <td>1</td>\n",
              "      <td>2.6</td>\n",
              "      <td>0</td>\n",
              "      <td>0</td>\n",
              "      <td>3</td>\n",
              "      <td>0</td>\n",
              "    </tr>\n",
              "    <tr>\n",
              "      <th>3</th>\n",
              "      <td>61</td>\n",
              "      <td>1</td>\n",
              "      <td>0</td>\n",
              "      <td>148</td>\n",
              "      <td>203</td>\n",
              "      <td>0</td>\n",
              "      <td>1</td>\n",
              "      <td>161</td>\n",
              "      <td>0</td>\n",
              "      <td>0.0</td>\n",
              "      <td>2</td>\n",
              "      <td>1</td>\n",
              "      <td>3</td>\n",
              "      <td>0</td>\n",
              "    </tr>\n",
              "    <tr>\n",
              "      <th>4</th>\n",
              "      <td>62</td>\n",
              "      <td>0</td>\n",
              "      <td>0</td>\n",
              "      <td>138</td>\n",
              "      <td>294</td>\n",
              "      <td>1</td>\n",
              "      <td>1</td>\n",
              "      <td>106</td>\n",
              "      <td>0</td>\n",
              "      <td>1.9</td>\n",
              "      <td>1</td>\n",
              "      <td>3</td>\n",
              "      <td>2</td>\n",
              "      <td>0</td>\n",
              "    </tr>\n",
              "    <tr>\n",
              "      <th>5</th>\n",
              "      <td>58</td>\n",
              "      <td>0</td>\n",
              "      <td>0</td>\n",
              "      <td>100</td>\n",
              "      <td>248</td>\n",
              "      <td>0</td>\n",
              "      <td>0</td>\n",
              "      <td>122</td>\n",
              "      <td>0</td>\n",
              "      <td>1.0</td>\n",
              "      <td>1</td>\n",
              "      <td>0</td>\n",
              "      <td>2</td>\n",
              "      <td>1</td>\n",
              "    </tr>\n",
              "    <tr>\n",
              "      <th>6</th>\n",
              "      <td>58</td>\n",
              "      <td>1</td>\n",
              "      <td>0</td>\n",
              "      <td>114</td>\n",
              "      <td>318</td>\n",
              "      <td>0</td>\n",
              "      <td>2</td>\n",
              "      <td>140</td>\n",
              "      <td>0</td>\n",
              "      <td>4.4</td>\n",
              "      <td>0</td>\n",
              "      <td>3</td>\n",
              "      <td>1</td>\n",
              "      <td>0</td>\n",
              "    </tr>\n",
              "    <tr>\n",
              "      <th>7</th>\n",
              "      <td>55</td>\n",
              "      <td>1</td>\n",
              "      <td>0</td>\n",
              "      <td>160</td>\n",
              "      <td>289</td>\n",
              "      <td>0</td>\n",
              "      <td>0</td>\n",
              "      <td>145</td>\n",
              "      <td>1</td>\n",
              "      <td>0.8</td>\n",
              "      <td>1</td>\n",
              "      <td>1</td>\n",
              "      <td>3</td>\n",
              "      <td>0</td>\n",
              "    </tr>\n",
              "  </tbody>\n",
              "</table>\n",
              "</div>\n",
              "    <div class=\"colab-df-buttons\">\n",
              "\n",
              "  <div class=\"colab-df-container\">\n",
              "    <button class=\"colab-df-convert\" onclick=\"convertToInteractive('df-0f41f673-55d0-4616-a839-7e9c8101b4dd')\"\n",
              "            title=\"Convert this dataframe to an interactive table.\"\n",
              "            style=\"display:none;\">\n",
              "\n",
              "  <svg xmlns=\"http://www.w3.org/2000/svg\" height=\"24px\" viewBox=\"0 -960 960 960\">\n",
              "    <path d=\"M120-120v-720h720v720H120Zm60-500h600v-160H180v160Zm220 220h160v-160H400v160Zm0 220h160v-160H400v160ZM180-400h160v-160H180v160Zm440 0h160v-160H620v160ZM180-180h160v-160H180v160Zm440 0h160v-160H620v160Z\"/>\n",
              "  </svg>\n",
              "    </button>\n",
              "\n",
              "  <style>\n",
              "    .colab-df-container {\n",
              "      display:flex;\n",
              "      gap: 12px;\n",
              "    }\n",
              "\n",
              "    .colab-df-convert {\n",
              "      background-color: #E8F0FE;\n",
              "      border: none;\n",
              "      border-radius: 50%;\n",
              "      cursor: pointer;\n",
              "      display: none;\n",
              "      fill: #1967D2;\n",
              "      height: 32px;\n",
              "      padding: 0 0 0 0;\n",
              "      width: 32px;\n",
              "    }\n",
              "\n",
              "    .colab-df-convert:hover {\n",
              "      background-color: #E2EBFA;\n",
              "      box-shadow: 0px 1px 2px rgba(60, 64, 67, 0.3), 0px 1px 3px 1px rgba(60, 64, 67, 0.15);\n",
              "      fill: #174EA6;\n",
              "    }\n",
              "\n",
              "    .colab-df-buttons div {\n",
              "      margin-bottom: 4px;\n",
              "    }\n",
              "\n",
              "    [theme=dark] .colab-df-convert {\n",
              "      background-color: #3B4455;\n",
              "      fill: #D2E3FC;\n",
              "    }\n",
              "\n",
              "    [theme=dark] .colab-df-convert:hover {\n",
              "      background-color: #434B5C;\n",
              "      box-shadow: 0px 1px 3px 1px rgba(0, 0, 0, 0.15);\n",
              "      filter: drop-shadow(0px 1px 2px rgba(0, 0, 0, 0.3));\n",
              "      fill: #FFFFFF;\n",
              "    }\n",
              "  </style>\n",
              "\n",
              "    <script>\n",
              "      const buttonEl =\n",
              "        document.querySelector('#df-0f41f673-55d0-4616-a839-7e9c8101b4dd button.colab-df-convert');\n",
              "      buttonEl.style.display =\n",
              "        google.colab.kernel.accessAllowed ? 'block' : 'none';\n",
              "\n",
              "      async function convertToInteractive(key) {\n",
              "        const element = document.querySelector('#df-0f41f673-55d0-4616-a839-7e9c8101b4dd');\n",
              "        const dataTable =\n",
              "          await google.colab.kernel.invokeFunction('convertToInteractive',\n",
              "                                                    [key], {});\n",
              "        if (!dataTable) return;\n",
              "\n",
              "        const docLinkHtml = 'Like what you see? Visit the ' +\n",
              "          '<a target=\"_blank\" href=https://colab.research.google.com/notebooks/data_table.ipynb>data table notebook</a>'\n",
              "          + ' to learn more about interactive tables.';\n",
              "        element.innerHTML = '';\n",
              "        dataTable['output_type'] = 'display_data';\n",
              "        await google.colab.output.renderOutput(dataTable, element);\n",
              "        const docLink = document.createElement('div');\n",
              "        docLink.innerHTML = docLinkHtml;\n",
              "        element.appendChild(docLink);\n",
              "      }\n",
              "    </script>\n",
              "  </div>\n",
              "\n",
              "\n",
              "<div id=\"df-a5553a7c-0d7c-46ee-bd08-617ae3e0bca5\">\n",
              "  <button class=\"colab-df-quickchart\" onclick=\"quickchart('df-a5553a7c-0d7c-46ee-bd08-617ae3e0bca5')\"\n",
              "            title=\"Suggest charts\"\n",
              "            style=\"display:none;\">\n",
              "\n",
              "<svg xmlns=\"http://www.w3.org/2000/svg\" height=\"24px\"viewBox=\"0 0 24 24\"\n",
              "     width=\"24px\">\n",
              "    <g>\n",
              "        <path d=\"M19 3H5c-1.1 0-2 .9-2 2v14c0 1.1.9 2 2 2h14c1.1 0 2-.9 2-2V5c0-1.1-.9-2-2-2zM9 17H7v-7h2v7zm4 0h-2V7h2v10zm4 0h-2v-4h2v4z\"/>\n",
              "    </g>\n",
              "</svg>\n",
              "  </button>\n",
              "\n",
              "<style>\n",
              "  .colab-df-quickchart {\n",
              "      --bg-color: #E8F0FE;\n",
              "      --fill-color: #1967D2;\n",
              "      --hover-bg-color: #E2EBFA;\n",
              "      --hover-fill-color: #174EA6;\n",
              "      --disabled-fill-color: #AAA;\n",
              "      --disabled-bg-color: #DDD;\n",
              "  }\n",
              "\n",
              "  [theme=dark] .colab-df-quickchart {\n",
              "      --bg-color: #3B4455;\n",
              "      --fill-color: #D2E3FC;\n",
              "      --hover-bg-color: #434B5C;\n",
              "      --hover-fill-color: #FFFFFF;\n",
              "      --disabled-bg-color: #3B4455;\n",
              "      --disabled-fill-color: #666;\n",
              "  }\n",
              "\n",
              "  .colab-df-quickchart {\n",
              "    background-color: var(--bg-color);\n",
              "    border: none;\n",
              "    border-radius: 50%;\n",
              "    cursor: pointer;\n",
              "    display: none;\n",
              "    fill: var(--fill-color);\n",
              "    height: 32px;\n",
              "    padding: 0;\n",
              "    width: 32px;\n",
              "  }\n",
              "\n",
              "  .colab-df-quickchart:hover {\n",
              "    background-color: var(--hover-bg-color);\n",
              "    box-shadow: 0 1px 2px rgba(60, 64, 67, 0.3), 0 1px 3px 1px rgba(60, 64, 67, 0.15);\n",
              "    fill: var(--button-hover-fill-color);\n",
              "  }\n",
              "\n",
              "  .colab-df-quickchart-complete:disabled,\n",
              "  .colab-df-quickchart-complete:disabled:hover {\n",
              "    background-color: var(--disabled-bg-color);\n",
              "    fill: var(--disabled-fill-color);\n",
              "    box-shadow: none;\n",
              "  }\n",
              "\n",
              "  .colab-df-spinner {\n",
              "    border: 2px solid var(--fill-color);\n",
              "    border-color: transparent;\n",
              "    border-bottom-color: var(--fill-color);\n",
              "    animation:\n",
              "      spin 1s steps(1) infinite;\n",
              "  }\n",
              "\n",
              "  @keyframes spin {\n",
              "    0% {\n",
              "      border-color: transparent;\n",
              "      border-bottom-color: var(--fill-color);\n",
              "      border-left-color: var(--fill-color);\n",
              "    }\n",
              "    20% {\n",
              "      border-color: transparent;\n",
              "      border-left-color: var(--fill-color);\n",
              "      border-top-color: var(--fill-color);\n",
              "    }\n",
              "    30% {\n",
              "      border-color: transparent;\n",
              "      border-left-color: var(--fill-color);\n",
              "      border-top-color: var(--fill-color);\n",
              "      border-right-color: var(--fill-color);\n",
              "    }\n",
              "    40% {\n",
              "      border-color: transparent;\n",
              "      border-right-color: var(--fill-color);\n",
              "      border-top-color: var(--fill-color);\n",
              "    }\n",
              "    60% {\n",
              "      border-color: transparent;\n",
              "      border-right-color: var(--fill-color);\n",
              "    }\n",
              "    80% {\n",
              "      border-color: transparent;\n",
              "      border-right-color: var(--fill-color);\n",
              "      border-bottom-color: var(--fill-color);\n",
              "    }\n",
              "    90% {\n",
              "      border-color: transparent;\n",
              "      border-bottom-color: var(--fill-color);\n",
              "    }\n",
              "  }\n",
              "</style>\n",
              "\n",
              "  <script>\n",
              "    async function quickchart(key) {\n",
              "      const quickchartButtonEl =\n",
              "        document.querySelector('#' + key + ' button');\n",
              "      quickchartButtonEl.disabled = true;  // To prevent multiple clicks.\n",
              "      quickchartButtonEl.classList.add('colab-df-spinner');\n",
              "      try {\n",
              "        const charts = await google.colab.kernel.invokeFunction(\n",
              "            'suggestCharts', [key], {});\n",
              "      } catch (error) {\n",
              "        console.error('Error during call to suggestCharts:', error);\n",
              "      }\n",
              "      quickchartButtonEl.classList.remove('colab-df-spinner');\n",
              "      quickchartButtonEl.classList.add('colab-df-quickchart-complete');\n",
              "    }\n",
              "    (() => {\n",
              "      let quickchartButtonEl =\n",
              "        document.querySelector('#df-a5553a7c-0d7c-46ee-bd08-617ae3e0bca5 button');\n",
              "      quickchartButtonEl.style.display =\n",
              "        google.colab.kernel.accessAllowed ? 'block' : 'none';\n",
              "    })();\n",
              "  </script>\n",
              "</div>\n",
              "\n",
              "    </div>\n",
              "  </div>\n"
            ],
            "application/vnd.google.colaboratory.intrinsic+json": {
              "type": "dataframe",
              "variable_name": "df",
              "summary": "{\n  \"name\": \"df\",\n  \"rows\": 1361,\n  \"fields\": [\n    {\n      \"column\": \"age\",\n      \"properties\": {\n        \"dtype\": \"number\",\n        \"std\": 8,\n        \"min\": 29,\n        \"max\": 77,\n        \"num_unique_values\": 41,\n        \"samples\": [\n          65,\n          50,\n          54\n        ],\n        \"semantic_type\": \"\",\n        \"description\": \"\"\n      }\n    },\n    {\n      \"column\": \"sex\",\n      \"properties\": {\n        \"dtype\": \"number\",\n        \"std\": 0,\n        \"min\": 0,\n        \"max\": 1,\n        \"num_unique_values\": 2,\n        \"samples\": [\n          0,\n          1\n        ],\n        \"semantic_type\": \"\",\n        \"description\": \"\"\n      }\n    },\n    {\n      \"column\": \"cp\",\n      \"properties\": {\n        \"dtype\": \"number\",\n        \"std\": 1,\n        \"min\": 0,\n        \"max\": 3,\n        \"num_unique_values\": 4,\n        \"samples\": [\n          1,\n          3\n        ],\n        \"semantic_type\": \"\",\n        \"description\": \"\"\n      }\n    },\n    {\n      \"column\": \"trestbps\",\n      \"properties\": {\n        \"dtype\": \"number\",\n        \"std\": 17,\n        \"min\": 94,\n        \"max\": 200,\n        \"num_unique_values\": 49,\n        \"samples\": [\n          128,\n          172\n        ],\n        \"semantic_type\": \"\",\n        \"description\": \"\"\n      }\n    },\n    {\n      \"column\": \"chol\",\n      \"properties\": {\n        \"dtype\": \"number\",\n        \"std\": 50,\n        \"min\": 126,\n        \"max\": 564,\n        \"num_unique_values\": 152,\n        \"samples\": [\n          267,\n          262\n        ],\n        \"semantic_type\": \"\",\n        \"description\": \"\"\n      }\n    },\n    {\n      \"column\": \"fbs\",\n      \"properties\": {\n        \"dtype\": \"number\",\n        \"std\": 0,\n        \"min\": 0,\n        \"max\": 1,\n        \"num_unique_values\": 2,\n        \"samples\": [\n          1,\n          0\n        ],\n        \"semantic_type\": \"\",\n        \"description\": \"\"\n      }\n    },\n    {\n      \"column\": \"restecg\",\n      \"properties\": {\n        \"dtype\": \"number\",\n        \"std\": 0,\n        \"min\": 0,\n        \"max\": 2,\n        \"num_unique_values\": 3,\n        \"samples\": [\n          1,\n          0\n        ],\n        \"semantic_type\": \"\",\n        \"description\": \"\"\n      }\n    },\n    {\n      \"column\": \"thalach\",\n      \"properties\": {\n        \"dtype\": \"number\",\n        \"std\": 22,\n        \"min\": 71,\n        \"max\": 202,\n        \"num_unique_values\": 91,\n        \"samples\": [\n          180,\n          152\n        ],\n        \"semantic_type\": \"\",\n        \"description\": \"\"\n      }\n    },\n    {\n      \"column\": \"exang\",\n      \"properties\": {\n        \"dtype\": \"number\",\n        \"std\": 0,\n        \"min\": 0,\n        \"max\": 1,\n        \"num_unique_values\": 2,\n        \"samples\": [\n          1,\n          0\n        ],\n        \"semantic_type\": \"\",\n        \"description\": \"\"\n      }\n    },\n    {\n      \"column\": \"oldpeak\",\n      \"properties\": {\n        \"dtype\": \"number\",\n        \"std\": 1.1602621605086323,\n        \"min\": 0.0,\n        \"max\": 6.2,\n        \"num_unique_values\": 40,\n        \"samples\": [\n          2.8,\n          0.4\n        ],\n        \"semantic_type\": \"\",\n        \"description\": \"\"\n      }\n    },\n    {\n      \"column\": \"slope\",\n      \"properties\": {\n        \"dtype\": \"number\",\n        \"std\": 0,\n        \"min\": 0,\n        \"max\": 2,\n        \"num_unique_values\": 3,\n        \"samples\": [\n          2,\n          0\n        ],\n        \"semantic_type\": \"\",\n        \"description\": \"\"\n      }\n    },\n    {\n      \"column\": \"ca\",\n      \"properties\": {\n        \"dtype\": \"number\",\n        \"std\": 1,\n        \"min\": 0,\n        \"max\": 4,\n        \"num_unique_values\": 5,\n        \"samples\": [\n          0,\n          4\n        ],\n        \"semantic_type\": \"\",\n        \"description\": \"\"\n      }\n    },\n    {\n      \"column\": \"thal\",\n      \"properties\": {\n        \"dtype\": \"number\",\n        \"std\": 0,\n        \"min\": 0,\n        \"max\": 3,\n        \"num_unique_values\": 4,\n        \"samples\": [\n          2,\n          0\n        ],\n        \"semantic_type\": \"\",\n        \"description\": \"\"\n      }\n    },\n    {\n      \"column\": \"target\",\n      \"properties\": {\n        \"dtype\": \"number\",\n        \"std\": 0,\n        \"min\": 0,\n        \"max\": 1,\n        \"num_unique_values\": 2,\n        \"samples\": [\n          1,\n          0\n        ],\n        \"semantic_type\": \"\",\n        \"description\": \"\"\n      }\n    }\n  ]\n}"
            }
          },
          "metadata": {},
          "execution_count": 79
        }
      ]
    },
    {
      "cell_type": "code",
      "source": [
        "df.shape\n",
        "df.info()"
      ],
      "metadata": {
        "colab": {
          "base_uri": "https://localhost:8080/"
        },
        "id": "_HBwtxGjvQVS",
        "outputId": "b242f906-501e-41e2-c55f-efceb0da49fe"
      },
      "execution_count": null,
      "outputs": [
        {
          "output_type": "stream",
          "name": "stdout",
          "text": [
            "<class 'pandas.core.frame.DataFrame'>\n",
            "RangeIndex: 1361 entries, 0 to 1360\n",
            "Data columns (total 14 columns):\n",
            " #   Column    Non-Null Count  Dtype  \n",
            "---  ------    --------------  -----  \n",
            " 0   age       1361 non-null   int64  \n",
            " 1   sex       1361 non-null   int64  \n",
            " 2   cp        1361 non-null   int64  \n",
            " 3   trestbps  1361 non-null   int64  \n",
            " 4   chol      1361 non-null   int64  \n",
            " 5   fbs       1361 non-null   int64  \n",
            " 6   restecg   1361 non-null   int64  \n",
            " 7   thalach   1361 non-null   int64  \n",
            " 8   exang     1361 non-null   int64  \n",
            " 9   oldpeak   1361 non-null   float64\n",
            " 10  slope     1361 non-null   int64  \n",
            " 11  ca        1361 non-null   int64  \n",
            " 12  thal      1361 non-null   int64  \n",
            " 13  target    1361 non-null   int64  \n",
            "dtypes: float64(1), int64(13)\n",
            "memory usage: 149.0 KB\n"
          ]
        }
      ]
    },
    {
      "cell_type": "code",
      "source": [
        "df.isnull().sum()"
      ],
      "metadata": {
        "id": "2-FWnkC5VE9d",
        "outputId": "48eb464f-b205-4611-ea55-f1cf4bdfad99",
        "colab": {
          "base_uri": "https://localhost:8080/",
          "height": 523
        }
      },
      "execution_count": null,
      "outputs": [
        {
          "output_type": "execute_result",
          "data": {
            "text/plain": [
              "age         0\n",
              "sex         0\n",
              "cp          0\n",
              "trestbps    0\n",
              "chol        0\n",
              "fbs         0\n",
              "restecg     0\n",
              "thalach     0\n",
              "exang       0\n",
              "oldpeak     0\n",
              "slope       0\n",
              "ca          0\n",
              "thal        0\n",
              "target      0\n",
              "dtype: int64"
            ],
            "text/html": [
              "<div>\n",
              "<style scoped>\n",
              "    .dataframe tbody tr th:only-of-type {\n",
              "        vertical-align: middle;\n",
              "    }\n",
              "\n",
              "    .dataframe tbody tr th {\n",
              "        vertical-align: top;\n",
              "    }\n",
              "\n",
              "    .dataframe thead th {\n",
              "        text-align: right;\n",
              "    }\n",
              "</style>\n",
              "<table border=\"1\" class=\"dataframe\">\n",
              "  <thead>\n",
              "    <tr style=\"text-align: right;\">\n",
              "      <th></th>\n",
              "      <th>0</th>\n",
              "    </tr>\n",
              "  </thead>\n",
              "  <tbody>\n",
              "    <tr>\n",
              "      <th>age</th>\n",
              "      <td>0</td>\n",
              "    </tr>\n",
              "    <tr>\n",
              "      <th>sex</th>\n",
              "      <td>0</td>\n",
              "    </tr>\n",
              "    <tr>\n",
              "      <th>cp</th>\n",
              "      <td>0</td>\n",
              "    </tr>\n",
              "    <tr>\n",
              "      <th>trestbps</th>\n",
              "      <td>0</td>\n",
              "    </tr>\n",
              "    <tr>\n",
              "      <th>chol</th>\n",
              "      <td>0</td>\n",
              "    </tr>\n",
              "    <tr>\n",
              "      <th>fbs</th>\n",
              "      <td>0</td>\n",
              "    </tr>\n",
              "    <tr>\n",
              "      <th>restecg</th>\n",
              "      <td>0</td>\n",
              "    </tr>\n",
              "    <tr>\n",
              "      <th>thalach</th>\n",
              "      <td>0</td>\n",
              "    </tr>\n",
              "    <tr>\n",
              "      <th>exang</th>\n",
              "      <td>0</td>\n",
              "    </tr>\n",
              "    <tr>\n",
              "      <th>oldpeak</th>\n",
              "      <td>0</td>\n",
              "    </tr>\n",
              "    <tr>\n",
              "      <th>slope</th>\n",
              "      <td>0</td>\n",
              "    </tr>\n",
              "    <tr>\n",
              "      <th>ca</th>\n",
              "      <td>0</td>\n",
              "    </tr>\n",
              "    <tr>\n",
              "      <th>thal</th>\n",
              "      <td>0</td>\n",
              "    </tr>\n",
              "    <tr>\n",
              "      <th>target</th>\n",
              "      <td>0</td>\n",
              "    </tr>\n",
              "  </tbody>\n",
              "</table>\n",
              "</div><br><label><b>dtype:</b> int64</label>"
            ]
          },
          "metadata": {},
          "execution_count": 81
        }
      ]
    },
    {
      "cell_type": "code",
      "source": [
        "df.columns"
      ],
      "metadata": {
        "colab": {
          "base_uri": "https://localhost:8080/"
        },
        "id": "hJ7xIgEPvaWF",
        "outputId": "f6966bdc-612e-42c3-d296-64924442faf0"
      },
      "execution_count": null,
      "outputs": [
        {
          "output_type": "execute_result",
          "data": {
            "text/plain": [
              "Index(['age', 'sex', 'cp', 'trestbps', 'chol', 'fbs', 'restecg', 'thalach',\n",
              "       'exang', 'oldpeak', 'slope', 'ca', 'thal', 'target'],\n",
              "      dtype='object')"
            ]
          },
          "metadata": {},
          "execution_count": 82
        }
      ]
    },
    {
      "cell_type": "code",
      "source": [
        "p_colors = ['green', 'red'] # Added one more color\n",
        "target = [0,1] # Added one more potential value to match the number of colors and corrected the names to match the df\n",
        "fig, ax = plt.subplots(1, 2, figsize=(12, 4))\n",
        "\n",
        "df[\"target\"].value_counts().plot(kind=\"pie\", labels=target,\n",
        "        colors=p_colors,explode=[0.05, 0.05], autopct='%1.1f%%', ax=ax[0], shadow=True) # Added one more explode value\n",
        "ax[0].set_title(\"Heart_Desease Pie Chart\")\n",
        "ax[0].set_ylabel('')\n",
        "\n",
        "count = sns.countplot(x=\"target\", data=df, ax=ax[1], order=target, palette=p_colors)\n",
        "for bar in count.patches:\n",
        "    count.annotate(format(bar.get_height()),\n",
        "        (bar.get_x() + bar.get_width() / 2,\n",
        "        bar.get_height()), ha='center', va='center',\n",
        "        size=11, xytext=(0, 8),\n",
        "        textcoords='offset points')\n",
        "ax[1].set_title(\"Heart_Desease Pie Chart\")\n",
        "plt.show()"
      ],
      "metadata": {
        "colab": {
          "base_uri": "https://localhost:8080/",
          "height": 501
        },
        "id": "iQ3_dBwUveGa",
        "outputId": "3c907131-6e0a-4982-d26a-1cce79973ff5"
      },
      "execution_count": null,
      "outputs": [
        {
          "output_type": "stream",
          "name": "stderr",
          "text": [
            "<ipython-input-83-b52fe8309cb7>:10: FutureWarning: \n",
            "\n",
            "Passing `palette` without assigning `hue` is deprecated and will be removed in v0.14.0. Assign the `x` variable to `hue` and set `legend=False` for the same effect.\n",
            "\n",
            "  count = sns.countplot(x=\"target\", data=df, ax=ax[1], order=target, palette=p_colors)\n"
          ]
        },
        {
          "output_type": "display_data",
          "data": {
            "text/plain": [
              "<Figure size 1200x400 with 2 Axes>"
            ],
            "image/png": "[encoded data removed]"
          },
          "metadata": {}
        }
      ]
    },
    {
      "cell_type": "markdown",
      "source": [
        "# **Accuracy**"
      ],
      "metadata": {
        "id": "iIQYZY6DCzPn"
      }
    },
    {
      "cell_type": "code",
      "source": [
        "from sklearn.model_selection import train_test_split as split,cross_val_score\n",
        "from sklearn.ensemble import RandomForestClassifier\n",
        "from sklearn.tree import DecisionTreeClassifier\n",
        "from sklearn.svm import SVC\n",
        "from sklearn.ensemble import ExtraTreesClassifier\n",
        "from sklearn.metrics import accuracy_score, confusion_matrix"
      ],
      "metadata": {
        "id": "FZVltDOA_mmX"
      },
      "execution_count": null,
      "outputs": []
    },
    {
      "cell_type": "code",
      "source": [
        "# Original Dataset\n",
        "X = df.drop(\"target\", axis=1)\n",
        "y = df['target']\n",
        "\n",
        "x_train, x_test, y_train, y_test = split(X, y, test_size=0.20, random_state=1)\n",
        "\n",
        "print(f\"Original data has {x_train.shape[0]} train data and {x_test.shape[0]} test data\\n\")"
      ],
      "metadata": {
        "colab": {
          "base_uri": "https://localhost:8080/"
        },
        "id": "vMu_xZG8Jn6R",
        "outputId": "c8c87b9f-a432-4751-ad8b-3b665729ecd2"
      },
      "execution_count": null,
      "outputs": [
        {
          "output_type": "stream",
          "name": "stdout",
          "text": [
            "Original data has 1088 train data and 273 test data\n",
            "\n"
          ]
        }
      ]
    },
    {
      "cell_type": "code",
      "source": [
        "# Using original dataset\n",
        "rf = DecisionTreeClassifier(random_state=50)\n",
        "rf.fit(x_train, y_train)\n",
        "y_pred = rf.predict(x_test)\n",
        "print(f\"Test Accuracy: {accuracy_score(y_test, y_pred)}\")\n",
        "\n"
      ],
      "metadata": {
        "colab": {
          "base_uri": "https://localhost:8080/"
        },
        "id": "urpAKAFFKJ8N",
        "outputId": "5e05565c-cbe5-4eb7-a519-9a008aea8078"
      },
      "execution_count": null,
      "outputs": [
        {
          "output_type": "stream",
          "name": "stdout",
          "text": [
            "Test Accuracy: 1.0\n"
          ]
        }
      ]
    },
    {
      "cell_type": "code",
      "source": [
        "from sklearn.ensemble import RandomForestClassifier\n",
        "from sklearn.metrics import accuracy_score\n",
        "\n",
        "rf = RandomForestClassifier(random_state=50)\n",
        "rf.fit(x_train, y_train)\n",
        "y_pred = rf.predict(x_test)\n",
        "\n",
        "print(f\"Test Accuracy: {accuracy_score(y_test, y_pred)}\")"
      ],
      "metadata": {
        "colab": {
          "base_uri": "https://localhost:8080/"
        },
        "id": "gNCnp52PwWEJ",
        "outputId": "7e937617-8b20-4c61-9529-340c57e33942"
      },
      "execution_count": null,
      "outputs": [
        {
          "output_type": "stream",
          "name": "stdout",
          "text": [
            "Test Accuracy: 0.989010989010989\n"
          ]
        }
      ]
    },
    {
      "cell_type": "code",
      "source": [
        "# Using original dataset\n",
        "et = ExtraTreesClassifier(random_state=50)\n",
        "et.fit(x_train, y_train)\n",
        "y_pred = et.predict(x_test)\n",
        "print(f\"Test Accuracy: {accuracy_score(y_test, y_pred)}\")"
      ],
      "metadata": {
        "colab": {
          "base_uri": "https://localhost:8080/"
        },
        "id": "Wk2unZM9L1Tp",
        "outputId": "2d8c06e8-43b0-4417-aa37-e25ed23c0a68"
      },
      "execution_count": null,
      "outputs": [
        {
          "output_type": "stream",
          "name": "stdout",
          "text": [
            "Test Accuracy: 0.989010989010989\n"
          ]
        }
      ]
    },
    {
      "cell_type": "code",
      "source": [
        "# Using original dataset\n",
        "svc = SVC(random_state=50)\n",
        "svc.fit(x_train, y_train)\n",
        "y_pred = svc.predict(x_test)\n",
        "print(f\"Test Accuracy: {accuracy_score(y_test, y_pred)}\")"
      ],
      "metadata": {
        "colab": {
          "base_uri": "https://localhost:8080/"
        },
        "id": "AWVzFC6vMJeH",
        "outputId": "8aad3ea8-c85d-4cb8-a948-3c88f2de09d4"
      },
      "execution_count": null,
      "outputs": [
        {
          "output_type": "stream",
          "name": "stdout",
          "text": [
            "Test Accuracy: 0.673992673992674\n"
          ]
        }
      ]
    },
    {
      "cell_type": "markdown",
      "source": [
        "# **Crossvalidation For DT**"
      ],
      "metadata": {
        "id": "4kyiumSmA6SM"
      }
    },
    {
      "cell_type": "code",
      "source": [
        "import pandas as pd\n",
        "from sklearn.tree import DecisionTreeClassifier\n",
        "from sklearn.model_selection import cross_val_score, StratifiedKFold\n",
        "\n",
        "# Create a Decision Tree Classifier\n",
        "dt_classifier = DecisionTreeClassifier(random_state=42)\n",
        "\n",
        "# Define the cross-validation strategy (e.g., StratifiedKFold)\n",
        "cv_strategy = StratifiedKFold(n_splits=5, shuffle=True, random_state=42)\n",
        "\n",
        "# Perform 10-fold cross-validation\n",
        "# Use dt_classifier instead of 'model' (which is undefined)\n",
        "scores = cross_val_score(dt_classifier, X, y, cv=10, scoring='accuracy')\n",
        "\n",
        "# Print accuracy for each iteration\n",
        "print(\"Accuracy for each fold:\")\n",
        "for i, score in enumerate(scores):\n",
        "    print(f\"Fold {i+1}: {score:.4f}\")\n",
        "\n",
        "# Print average accuracy\n",
        "print(f\"\\nAverage Accuracy: {scores.mean():.4f}\")"
      ],
      "metadata": {
        "colab": {
          "base_uri": "https://localhost:8080/"
        },
        "id": "9DwXK-dXAJ6j",
        "outputId": "c30d54a6-a65d-47e9-8613-3b8baab5f891"
      },
      "execution_count": null,
      "outputs": [
        {
          "output_type": "stream",
          "name": "stdout",
          "text": [
            "Accuracy for each fold:\n",
            "Fold 1: 1.0000\n",
            "Fold 2: 1.0000\n",
            "Fold 3: 1.0000\n",
            "Fold 4: 0.9779\n",
            "Fold 5: 1.0000\n",
            "Fold 6: 1.0000\n",
            "Fold 7: 1.0000\n",
            "Fold 8: 1.0000\n",
            "Fold 9: 1.0000\n",
            "Fold 10: 1.0000\n",
            "\n",
            "Average Accuracy: 0.9978\n"
          ]
        }
      ]
    },
    {
      "cell_type": "markdown",
      "source": [
        "# **Classification_report**"
      ],
      "metadata": {
        "id": "RNqsWQoTBBel"
      }
    },
    {
      "cell_type": "code",
      "source": [
        "from sklearn.metrics import classification_report\n",
        "print(classification_report(y_test, y_pred))"
      ],
      "metadata": {
        "colab": {
          "base_uri": "https://localhost:8080/"
        },
        "id": "XgdMbktgNWJa",
        "outputId": "bf3a85f7-7e6e-40d7-b37e-5fdadb689dca"
      },
      "execution_count": null,
      "outputs": [
        {
          "output_type": "stream",
          "name": "stdout",
          "text": [
            "              precision    recall  f1-score   support\n",
            "\n",
            "           0       0.66      0.66      0.66       130\n",
            "           1       0.69      0.69      0.69       143\n",
            "\n",
            "    accuracy                           0.67       273\n",
            "   macro avg       0.67      0.67      0.67       273\n",
            "weighted avg       0.67      0.67      0.67       273\n",
            "\n"
          ]
        }
      ]
    },
    {
      "cell_type": "code",
      "source": [
        "from sklearn.metrics import confusion_matrix\n",
        "\n",
        "# Assuming 'y_test' and 'y_pred' are defined from your previous model\n",
        "cm = confusion_matrix(y_test, y_pred)\n",
        "print(cm)"
      ],
      "metadata": {
        "colab": {
          "base_uri": "https://localhost:8080/"
        },
        "id": "oy2-WnwVNiAd",
        "outputId": "0f199a1a-1cb0-47e8-998a-20326686b058"
      },
      "execution_count": null,
      "outputs": [
        {
          "output_type": "stream",
          "name": "stdout",
          "text": [
            "[[86 44]\n",
            " [45 98]]\n"
          ]
        }
      ]
    },
    {
      "cell_type": "code",
      "source": [
        "# Assuming 'cm' is defined from the previous code snippet\n",
        "plt.figure(figsize=(8, 6))\n",
        "sns.heatmap(cm, annot=True, cmap='Blues', fmt='g')\n",
        "plt.xlabel('Predicted')\n",
        "plt.ylabel('Actual')\n",
        "plt.title('Confusion Matrix')\n",
        "plt.show()"
      ],
      "metadata": {
        "colab": {
          "base_uri": "https://localhost:8080/",
          "height": 564
        },
        "id": "jkmpanvmORbq",
        "outputId": "c746f134-e47a-40a9-fc52-d9af10a87e5e"
      },
      "execution_count": null,
      "outputs": [
        {
          "output_type": "display_data",
          "data": {
            "text/plain": [
              "<Figure size 800x600 with 2 Axes>"
            ],
            "image/png": "[encoded data removed]"
          },
          "metadata": {}
        }
      ]
    },
    {
      "cell_type": "code",
      "source": [
        "from sklearn.metrics import confusion_matrix, ConfusionMatrixDisplay\n",
        "# Assuming 'rf' is your fitted model and 'x_test', 'y_test' are your test data\n",
        "y_pred = rf.predict(x_test)\n",
        "cm = confusion_matrix(y_test, y_pred)\n",
        "\n",
        "# Visualize the confusion matrix\n",
        "disp = ConfusionMatrixDisplay(confusion_matrix=cm, display_labels=rf.classes_)\n",
        "disp.plot()\n",
        "plt.show()"
      ],
      "metadata": {
        "colab": {
          "base_uri": "https://localhost:8080/",
          "height": 455
        },
        "id": "fF8DrEJnOgm-",
        "outputId": "3087580f-15b4-4f2e-8093-2a1bf3e13e80"
      },
      "execution_count": null,
      "outputs": [
        {
          "output_type": "display_data",
          "data": {
            "text/plain": [
              "<Figure size 640x480 with 2 Axes>"
            ],
            "image/png": "[encoded data removed]"
          },
          "metadata": {}
        }
      ]
    },
    {
      "cell_type": "markdown",
      "source": [
        "# **Code with preprocessing**"
      ],
      "metadata": {
        "id": "uFNu1kenzwy8"
      }
    },
    {
      "cell_type": "code",
      "source": [
        "# Original Dataset\n",
        "from sklearn.model_selection import train_test_split as split,cross_val_score\n",
        "from sklearn.ensemble import RandomForestClassifier\n",
        "from sklearn.tree import DecisionTreeClassifier\n",
        "from sklearn.svm import SVC\n",
        "from sklearn.ensemble import ExtraTreesClassifier\n",
        "from sklearn.metrics import accuracy_score, confusion_matrix\n",
        "\n",
        "# URL = 'https://drive.google.com/file/d/1RxokJrLFbeqtHk6RtYyl1XeOQv7AJ-PO/view?usp=sharing'\n",
        "# path = 'https://drive.google.com/uc?export=download&id='+URL.split('/')[-2]\n",
        "df = pd.read_csv(\"/content/heartdisease project Dataset.csv\")\n",
        "df.head(5)\n",
        "\n",
        "X = df.drop(\"target\", axis=1)\n",
        "y = df.target\n",
        "\n",
        "x_train, x_test, y_train, y_test = split(X, y, test_size=0.20, random_state=1)\n",
        "\n"
      ],
      "metadata": {
        "id": "TzQpy6qRxO7x"
      },
      "execution_count": null,
      "outputs": []
    },
    {
      "cell_type": "markdown",
      "source": [
        "# **Outlier**"
      ],
      "metadata": {
        "id": "7U-6Xq2Ozz3Y"
      }
    },
    {
      "cell_type": "code",
      "source": [
        "import matplotlib.pyplot as plt\n",
        "import seaborn as sns\n",
        "\n",
        "# Create boxplots for each feature\n",
        "plt.figure(figsize=(15, 10))\n",
        "\n",
        "# Loop through each column in the dataset except the target variable\n",
        "for i, col in enumerate(X.columns, 1):\n",
        "    plt.subplot(len(X.columns) // 3 + 1, 3, i)  # Create subplots dynamically\n",
        "    sns.boxplot(x=X[col])\n",
        "    plt.title(f'Boxplot of {col}')\n",
        "\n",
        "plt.tight_layout()\n",
        "plt.show()"
      ],
      "metadata": {
        "colab": {
          "base_uri": "https://localhost:8080/",
          "height": 1000
        },
        "id": "lJbCQfOAy1ju",
        "outputId": "5adacfab-cee7-4d44-d3e9-254e3dc9dbc0"
      },
      "execution_count": null,
      "outputs": [
        {
          "output_type": "display_data",
          "data": {
            "text/plain": [
              "<Figure size 1500x1000 with 13 Axes>"
            ],
            "image/png": "[encoded data removed]"
          },
          "metadata": {}
        }
      ]
    },
    {
      "cell_type": "code",
      "source": [
        "import numpy as np\n",
        "import pandas as pd\n",
        "\n",
        "# Define a function to detect outliers using the IQR method\n",
        "def detect_outliers(df):\n",
        "    outlier_columns = []\n",
        "    for col in df.columns:\n",
        "        # Calculate Q1 (25th percentile) and Q3 (75th percentile)\n",
        "        Q1 = df[col].quantile(0.25)\n",
        "        Q3 = df[col].quantile(0.75)\n",
        "\n",
        "        # Calculate the IQR\n",
        "        IQR = Q3 - Q1\n",
        "\n",
        "        # Define the outlier range\n",
        "        lower_bound = Q1 - 1.5 * IQR\n",
        "        upper_bound = Q3 + 1.5 * IQR\n",
        "\n",
        "        # Check if there are any outliers in the column\n",
        "        if ((df[col] < lower_bound) | (df[col] > upper_bound)).any():\n",
        "            outlier_columns.append(col)\n",
        "\n",
        "    return outlier_columns\n",
        "\n",
        "# Detect which columns in X have outliers\n",
        "columns_with_outliers = detect_outliers(X)\n",
        "\n",
        "print(\"Columns with outliers:\", columns_with_outliers)"
      ],
      "metadata": {
        "colab": {
          "base_uri": "https://localhost:8080/"
        },
        "id": "ol1ee1iC0G9o",
        "outputId": "51c18f62-dc6d-490d-81dd-ca68b88839d5"
      },
      "execution_count": null,
      "outputs": [
        {
          "output_type": "stream",
          "name": "stdout",
          "text": [
            "Columns with outliers: ['trestbps', 'chol', 'fbs', 'thalach', 'oldpeak', 'ca', 'thal']\n"
          ]
        }
      ]
    },
    {
      "cell_type": "code",
      "source": [
        "import pandas as pd\n",
        "\n",
        "# Function to count outliers using IQR\n",
        "def count_outliers(df):\n",
        "    outlier_counts = {}\n",
        "    for col in df.columns:\n",
        "        Q1 = df[col].quantile(0.25)\n",
        "        Q3 = df[col].quantile(0.75)\n",
        "        IQR = Q3 - Q1\n",
        "\n",
        "        # Define the outlier range\n",
        "        lower_bound = Q1 - 1.5 * IQR\n",
        "        upper_bound = Q3 + 1.5 * IQR\n",
        "\n",
        "        # Count the number of outliers in the column\n",
        "        outliers = ((df[col] < lower_bound) | (df[col] > upper_bound)).sum()\n",
        "        outlier_counts[col] = outliers\n",
        "\n",
        "    # Convert the dictionary to a pandas DataFrame for better visualization\n",
        "    outlier_counts_df = pd.DataFrame(list(outlier_counts.items()), columns=['Column', 'Outlier Count'])\n",
        "    return outlier_counts_df.sort_values(by='Outlier Count', ascending=False)\n",
        "\n",
        "# Get the outlier counts for each column\n",
        "outlier_counts_df = count_outliers(X)\n",
        "\n",
        "# Display the columns with the most outliers\n",
        "print(outlier_counts_df)\n"
      ],
      "metadata": {
        "colab": {
          "base_uri": "https://localhost:8080/"
        },
        "id": "0h_NDvTA0Lm9",
        "outputId": "6adc463f-09bf-4d2c-d220-2c6841bf6946"
      },
      "execution_count": null,
      "outputs": [
        {
          "output_type": "stream",
          "name": "stdout",
          "text": [
            "      Column  Outlier Count\n",
            "5        fbs            199\n",
            "11        ca            110\n",
            "3   trestbps             36\n",
            "4       chol             19\n",
            "12      thal              9\n",
            "9    oldpeak              8\n",
            "7    thalach              4\n",
            "0        age              0\n",
            "1        sex              0\n",
            "2         cp              0\n",
            "6    restecg              0\n",
            "8      exang              0\n",
            "10     slope              0\n"
          ]
        }
      ]
    },
    {
      "cell_type": "markdown",
      "source": [
        "# **Removing Outlier**"
      ],
      "metadata": {
        "id": "Npnoz7LR0qPG"
      }
    },
    {
      "cell_type": "code",
      "source": [
        "import pandas as pd\n",
        "import numpy as np\n",
        "\n",
        "def replace_outliers_with_mean(df, columns):\n",
        "    for col in columns:\n",
        "        # Convert column to numeric, handling errors\n",
        "        df[col] = pd.to_numeric(df[col], errors='coerce')\n",
        "        # Calculate IQR\n",
        "        Q1 = df[col].quantile(0.25)\n",
        "        Q3 = df[col].quantile(0.75)\n",
        "        IQR = Q3 - Q1\n",
        "        # Define outlier boundaries\n",
        "        lower_bound = Q1 - 1.5 * IQR\n",
        "        upper_bound = Q3 + 1.5 * IQR\n",
        "        # Calculate mean of non-outlier values\n",
        "        mean_val = df[(df[col] >= lower_bound) & (df[col] <= upper_bound)][col].mean()\n",
        "        # Replace outliers with mean\n",
        "        df.loc[((df[col] < lower_bound) | (df[col] > upper_bound)), col] = mean_val\n",
        "    return df\n",
        "\n",
        "outlier_columns = ['fbs', 'ca', 'trestbps', 'chol', 'thal', 'oldpeak', 'thalach']\n",
        "# Force all outlier columns to numeric before calling the function\n",
        "for col in outlier_columns:\n",
        "    df[col] = pd.to_numeric(df[col], errors='coerce')\n",
        "\n",
        "df = replace_outliers_with_mean(df, outlier_columns)"
      ],
      "metadata": {
        "colab": {
          "base_uri": "https://localhost:8080/"
        },
        "id": "LBGTaFZA0Ojn",
        "outputId": "142613e3-a856-47d1-8150-c0dfd439e809"
      },
      "execution_count": null,
      "outputs": [
        {
          "output_type": "stream",
          "name": "stderr",
          "text": [
            "<ipython-input-99-2b694c7db8c8>:18: FutureWarning: Setting an item of incompatible dtype is deprecated and will raise an error in a future version of pandas. Value '0.5291766586730615' has dtype incompatible with int64, please explicitly cast to a compatible dtype first.\n",
            "  df.loc[((df[col] < lower_bound) | (df[col] > upper_bound)), col] = mean_val\n",
            "<ipython-input-99-2b694c7db8c8>:18: FutureWarning: Setting an item of incompatible dtype is deprecated and will raise an error in a future version of pandas. Value '129.8822641509434' has dtype incompatible with int64, please explicitly cast to a compatible dtype first.\n",
            "  df.loc[((df[col] < lower_bound) | (df[col] > upper_bound)), col] = mean_val\n",
            "<ipython-input-99-2b694c7db8c8>:18: FutureWarning: Setting an item of incompatible dtype is deprecated and will raise an error in a future version of pandas. Value '242.11102831594636' has dtype incompatible with int64, please explicitly cast to a compatible dtype first.\n",
            "  df.loc[((df[col] < lower_bound) | (df[col] > upper_bound)), col] = mean_val\n",
            "<ipython-input-99-2b694c7db8c8>:18: FutureWarning: Setting an item of incompatible dtype is deprecated and will raise an error in a future version of pandas. Value '2.3520710059171597' has dtype incompatible with int64, please explicitly cast to a compatible dtype first.\n",
            "  df.loc[((df[col] < lower_bound) | (df[col] > upper_bound)), col] = mean_val\n",
            "<ipython-input-99-2b694c7db8c8>:18: FutureWarning: Setting an item of incompatible dtype is deprecated and will raise an error in a future version of pandas. Value '149.10095799557848' has dtype incompatible with int64, please explicitly cast to a compatible dtype first.\n",
            "  df.loc[((df[col] < lower_bound) | (df[col] > upper_bound)), col] = mean_val\n"
          ]
        }
      ]
    },
    {
      "cell_type": "markdown",
      "source": [
        "# **Outlier removed**"
      ],
      "metadata": {
        "id": "f-GG-4I934hV"
      }
    },
    {
      "cell_type": "code",
      "source": [
        "import pandas as pd\n",
        "\n",
        "# Function to count outliers using IQR\n",
        "def count_outliers(df):\n",
        "    outlier_counts = {}\n",
        "    for col in df.columns:\n",
        "        Q1 = df[col].quantile(0.25)\n",
        "        Q3 = df[col].quantile(0.75)\n",
        "        IQR = Q3 - Q1\n",
        "\n",
        "        # Define the outlier range\n",
        "        lower_bound = Q1 - 1.5 * IQR\n",
        "        upper_bound = Q3 + 1.5 * IQR\n",
        "\n",
        "        # Count the number of outliers in the column\n",
        "        outliers = ((df[col] < lower_bound) | (df[col] > upper_bound)).sum()\n",
        "        outlier_counts[col] = outliers\n",
        "\n",
        "    # Convert the dictionary to a pandas DataFrame for better visualization\n",
        "    outlier_counts_df = pd.DataFrame(list(outlier_counts.items()), columns=['Column', 'Outlier Count'])\n",
        "    return outlier_counts_df.sort_values(by='Outlier Count', ascending=False)\n",
        "\n",
        "# Get the outlier counts for each column\n",
        "outlier_counts_df = count_outliers(df)\n",
        "\n",
        "# Display the columns with the most outliers\n",
        "print(outlier_counts_df)\n"
      ],
      "metadata": {
        "colab": {
          "base_uri": "https://localhost:8080/"
        },
        "id": "esffHGrj3woq",
        "outputId": "86d830e7-af55-4406-8e47-753a239f38a0"
      },
      "execution_count": null,
      "outputs": [
        {
          "output_type": "stream",
          "name": "stdout",
          "text": [
            "      Column  Outlier Count\n",
            "4       chol              4\n",
            "0        age              0\n",
            "1        sex              0\n",
            "2         cp              0\n",
            "3   trestbps              0\n",
            "5        fbs              0\n",
            "6    restecg              0\n",
            "7    thalach              0\n",
            "8      exang              0\n",
            "9    oldpeak              0\n",
            "10     slope              0\n",
            "11        ca              0\n",
            "12      thal              0\n",
            "13    target              0\n"
          ]
        }
      ]
    },
    {
      "cell_type": "code",
      "source": [
        "# Function to cap outliers\n",
        "def cap_outliers(df, columns):\n",
        "    for col in columns:\n",
        "        Q1 = df[col].quantile(0.25)\n",
        "        Q3 = df[col].quantile(0.75)\n",
        "        IQR = Q3 - Q1\n",
        "        lower_bound = Q1 - 1.5 * IQR\n",
        "        upper_bound = Q3 + 1.5 * IQR\n",
        "        # Cap outliers\n",
        "        df[col] = np.where(df[col] < lower_bound, lower_bound, df[col])\n",
        "        df[col] = np.where(df[col] > upper_bound, upper_bound, df[col])\n",
        "    return df\n",
        "\n",
        "# Cap outliers in X\n",
        "X = cap_outliers(X, columns_with_outliers)\n"
      ],
      "metadata": {
        "id": "OYHnch2V4LmY"
      },
      "execution_count": null,
      "outputs": []
    },
    {
      "cell_type": "markdown",
      "source": [
        "# **Appling Smote**"
      ],
      "metadata": {
        "id": "2kH4YXlW4bTd"
      }
    },
    {
      "cell_type": "code",
      "source": [
        "from imblearn.over_sampling import SMOTE\n",
        "from sklearn.model_selection import train_test_split\n",
        "\n",
        "x_train, x_test, y_train, y_test = train_test_split(X, y, test_size=0.20, random_state=1)\n",
        "\n",
        "# Apply SMOTE to the training data\n",
        "smote = SMOTE(random_state=1)\n",
        "x_train_smote, y_train_smote = smote.fit_resample(x_train, y_train)\n",
        "\n",
        "# Now you can continue with training your model using x_train_smote and y_train_smote\n"
      ],
      "metadata": {
        "id": "dy0XOgYZ4gW6"
      },
      "execution_count": null,
      "outputs": []
    },
    {
      "cell_type": "code",
      "source": [
        "from imblearn.over_sampling import RandomOverSampler\n",
        "\n",
        "# Apply Random Oversampler to the training data\n",
        "ros = RandomOverSampler(random_state=1)\n",
        "x_train_smote, y_train_smote = ros.fit_resample(x_train, y_train)\n"
      ],
      "metadata": {
        "id": "cbLbXUDq4uGF"
      },
      "execution_count": null,
      "outputs": []
    },
    {
      "cell_type": "code",
      "source": [
        "from imblearn.combine import SMOTETomek\n",
        "\n",
        "# Apply SMOTETomek to the training data\n",
        "smote_tomek = SMOTETomek(random_state=1)\n",
        "x_train_smote, y_train_smote = smote_tomek.fit_resample(x_train, y_train)\n"
      ],
      "metadata": {
        "id": "kMKNOaRh4wEQ"
      },
      "execution_count": null,
      "outputs": []
    },
    {
      "cell_type": "code",
      "source": [
        "df2 = pd.concat([pd.DataFrame(x_train_smote), pd.DataFrame(y_train_smote)], axis=1)\n",
        "# Assuming X had columns 'col1', 'col2', ... and y was 'target'\n",
        "df2.columns = list(X.columns) + ['target']"
      ],
      "metadata": {
        "id": "PQjqT0xP5g9D"
      },
      "execution_count": null,
      "outputs": []
    },
    {
      "cell_type": "markdown",
      "source": [
        "# **Pie & Bar Chart after applying smote**"
      ],
      "metadata": {
        "id": "JLrd3rBa8zav"
      }
    },
    {
      "cell_type": "code",
      "source": [
        "p_colors = ['green', 'red'] # Added one more color\n",
        "target = [0,1] # Added one more potential value to match the number of colors and corrected the names to match the df\n",
        "fig, ax = plt.subplots(1, 2, figsize=(12, 4))\n",
        "\n",
        "df[\"target\"].value_counts().plot(kind=\"pie\", labels=target,\n",
        "        colors=p_colors,explode=[0.05, 0.05], autopct='%1.1f%%', ax=ax[0], shadow=True) # Added one more explode value\n",
        "ax[0].set_title(\"Heart_Desease Pie Chart\")\n",
        "ax[0].set_ylabel('')\n",
        "\n",
        "count = sns.countplot(x=\"target\", data=df, ax=ax[1], order=target, palette=p_colors)\n",
        "for bar in count.patches:\n",
        "    count.annotate(format(bar.get_height()),\n",
        "        (bar.get_x() + bar.get_width() / 2,\n",
        "        bar.get_height()), ha='center', va='center',\n",
        "        size=11, xytext=(0, 8),\n",
        "        textcoords='offset points')\n",
        "ax[1].set_title(\"Heart_Desease Pie Chart\")\n",
        "plt.show()"
      ],
      "metadata": {
        "colab": {
          "base_uri": "https://localhost:8080/",
          "height": 501
        },
        "id": "e2ypJeky9Xsx",
        "outputId": "e8a1b01c-63d5-432f-cb27-a1b423173b1e"
      },
      "execution_count": null,
      "outputs": [
        {
          "output_type": "stream",
          "name": "stderr",
          "text": [
            "<ipython-input-106-b52fe8309cb7>:10: FutureWarning: \n",
            "\n",
            "Passing `palette` without assigning `hue` is deprecated and will be removed in v0.14.0. Assign the `x` variable to `hue` and set `legend=False` for the same effect.\n",
            "\n",
            "  count = sns.countplot(x=\"target\", data=df, ax=ax[1], order=target, palette=p_colors)\n"
          ]
        },
        {
          "output_type": "display_data",
          "data": {
            "text/plain": [
              "<Figure size 1200x400 with 2 Axes>"
            ],
            "image/png": "[encoded data removed]"
          },
          "metadata": {}
        }
      ]
    },
    {
      "cell_type": "markdown",
      "source": [
        "# **DT After smote and Accuracy**"
      ],
      "metadata": {
        "id": "5Wlptwta-D0T"
      }
    },
    {
      "cell_type": "code",
      "source": [
        "# Import necessary libraries\n",
        "from sklearn.tree import DecisionTreeClassifier\n",
        "from sklearn.ensemble import RandomForestClassifier\n",
        "from sklearn.metrics import classification_report, accuracy_score\n",
        "\n",
        "# Apply Decision Tree classifier\n",
        "dt_model = DecisionTreeClassifier(random_state=1)\n",
        "dt_model.fit(x_train_smote, y_train_smote)\n",
        "\n",
        "# Predict on test data\n",
        "y_pred_dt = dt_model.predict(x_test)\n",
        "\n",
        "# Evaluate Decision Tree\n",
        "print(\"Decision Tree Classifier:\")\n",
        "print(classification_report(y_test, y_pred_dt))\n",
        "print(\"Accuracy:\", accuracy_score(y_test, y_pred_dt))\n",
        "\n",
        "# Apply Random Forest classifier\n",
        "rf_model = RandomForestClassifier(random_state=1)\n",
        "rf_model.fit(x_train_smote, y_train_smote)\n",
        "\n",
        "# Predict on test data\n",
        "y_pred_rf = rf_model.predict(x_test)\n",
        "\n",
        "# Evaluate Random Forest\n",
        "print(\"\\nRandom Forest Classifier:\")\n",
        "print(classification_report(y_test, y_pred_rf))\n",
        "print(\"Accuracy:\", accuracy_score(y_test, y_pred_rf))\n",
        "\n",
        "\n",
        "# Import necessary libraries\n",
        "from sklearn.svm import SVC\n",
        "from sklearn.ensemble import ExtraTreesClassifier\n",
        "\n",
        "# Apply Support Vector Classifier (SVC)\n",
        "svc_model = SVC(random_state=1)\n",
        "svc_model.fit(x_train_smote, y_train_smote)\n",
        "\n",
        "# Predict on test data\n",
        "y_pred_svc = svc_model.predict(x_test)\n",
        "\n",
        "# Evaluate SVC\n",
        "print(\"\\nSupport Vector Classifier (SVC):\")\n",
        "print(classification_report(y_test, y_pred_svc))\n",
        "print(\"Accuracy:\", accuracy_score(y_test, y_pred_svc))\n",
        "\n",
        "# Apply Extra Trees Classifier\n",
        "et_model = ExtraTreesClassifier(random_state=1)\n",
        "et_model.fit(x_train_smote, y_train_smote)\n",
        "\n",
        "# Predict on test data\n",
        "y_pred_et = et_model.predict(x_test)\n",
        "\n",
        "# Evaluate Extra Trees Classifier\n",
        "print(\"\\nExtra Trees Classifier:\")\n",
        "print(classification_report(y_test, y_pred_et))\n",
        "print(\"Accuracy:\", accuracy_score(y_test, y_pred_et))\n"
      ],
      "metadata": {
        "id": "H6RKgqBH9ddN",
        "colab": {
          "base_uri": "https://localhost:8080/"
        },
        "outputId": "5a9733f4-5136-417e-a420-4636fa207f74"
      },
      "execution_count": null,
      "outputs": [
        {
          "output_type": "stream",
          "name": "stdout",
          "text": [
            "Decision Tree Classifier:\n",
            "              precision    recall  f1-score   support\n",
            "\n",
            "           0       1.00      1.00      1.00       130\n",
            "           1       1.00      1.00      1.00       143\n",
            "\n",
            "    accuracy                           1.00       273\n",
            "   macro avg       1.00      1.00      1.00       273\n",
            "weighted avg       1.00      1.00      1.00       273\n",
            "\n",
            "Accuracy: 1.0\n",
            "\n",
            "Random Forest Classifier:\n",
            "              precision    recall  f1-score   support\n",
            "\n",
            "           0       0.98      1.00      0.99       130\n",
            "           1       1.00      0.98      0.99       143\n",
            "\n",
            "    accuracy                           0.99       273\n",
            "   macro avg       0.99      0.99      0.99       273\n",
            "weighted avg       0.99      0.99      0.99       273\n",
            "\n",
            "Accuracy: 0.989010989010989\n",
            "\n",
            "Support Vector Classifier (SVC):\n",
            "              precision    recall  f1-score   support\n",
            "\n",
            "           0       0.66      0.70      0.68       130\n",
            "           1       0.71      0.67      0.69       143\n",
            "\n",
            "    accuracy                           0.68       273\n",
            "   macro avg       0.69      0.69      0.68       273\n",
            "weighted avg       0.69      0.68      0.69       273\n",
            "\n",
            "Accuracy: 0.684981684981685\n",
            "\n",
            "Extra Trees Classifier:\n",
            "              precision    recall  f1-score   support\n",
            "\n",
            "           0       0.98      1.00      0.99       130\n",
            "           1       1.00      0.98      0.99       143\n",
            "\n",
            "    accuracy                           0.99       273\n",
            "   macro avg       0.99      0.99      0.99       273\n",
            "weighted avg       0.99      0.99      0.99       273\n",
            "\n",
            "Accuracy: 0.989010989010989\n"
          ]
        }
      ]
    },
    {
      "cell_type": "markdown",
      "source": [
        "# Feature **Selection**"
      ],
      "metadata": {
        "id": "pe9QPv7EG7Xy"
      }
    },
    {
      "cell_type": "code",
      "source": [
        "\n",
        "# All Feature Selection Code in one\n",
        "\n",
        "import pandas as pd\n",
        "from sklearn.model_selection import train_test_split\n",
        "from sklearn.preprocessing import LabelEncoder\n",
        "from sklearn.feature_selection import SelectKBest, chi2, f_classif\n",
        "from sklearn.ensemble import RandomForestClassifier, ExtraTreesClassifier\n",
        "from sklearn.tree import DecisionTreeClassifier\n",
        "from sklearn.feature_selection import RFE\n",
        "from sklearn.metrics import accuracy_score\n",
        "from sklearn.svm import SVC  # Import SVC\n",
        "\n",
        "# ... (Your existing data loading and preprocessing code) ...\n",
        "\n",
        "# Assuming you have your features in a DataFrame called 'X' and target in 'y'\n",
        "\n",
        "# 1. Chi-Square Feature Selection\n",
        "# Select top k features using Chi-Square\n",
        "selector_chi2 = SelectKBest(chi2, k=10)  # Select 10 features, adjust k as needed\n",
        "X_new_chi2 = selector_chi2.fit_transform(X, y)\n",
        "\n",
        "# Split data into training and testing sets\n",
        "X_train_chi2, X_test_chi2, y_train, y_test = train_test_split(\n",
        "    X_new_chi2, y, test_size=0.2, random_state=42\n",
        ")\n",
        "\n",
        "# 2. RFE Feature Selection\n",
        "# Use RFE with a base estimator (e.g., DecisionTreeClassifier)\n",
        "estimator = DecisionTreeClassifier()\n",
        "selector_rfe = RFE(estimator, n_features_to_select=10)  # Select 10 features, adjust as needed\n",
        "X_new_rfe = selector_rfe.fit_transform(X, y)\n",
        "\n",
        "# Split data into training and testing sets\n",
        "X_train_rfe, X_test_rfe, y_train, y_test = train_test_split(\n",
        "    X_new_rfe, y, test_size=0.2, random_state=42\n",
        ")\n",
        "\n",
        "\n",
        "# Initialize an empty list to store the results\n",
        "results = []\n",
        "\n",
        "# 1. Decision Tree with Chi-Square-selected features\n",
        "dt_chi2 = DecisionTreeClassifier()\n",
        "dt_chi2.fit(X_train_chi2, y_train)\n",
        "y_pred_dt_chi2 = dt_chi2.predict(X_test_chi2)\n",
        "accuracy_dt_chi2 = accuracy_score(y_test, y_pred_dt_chi2)\n",
        "results.append(['Decision Tree with Chi-Square', accuracy_dt_chi2])\n",
        "\n",
        "# 2. Random Forest with RFE-selected features\n",
        "rf_rfe = RandomForestClassifier()\n",
        "rf_rfe.fit(X_train_rfe, y_train)\n",
        "y_pred_rf_rfe = rf_rfe.predict(X_test_rfe)\n",
        "accuracy_rf_rfe = accuracy_score(y_test, y_pred_rf_rfe)\n",
        "results.append(['Random Forest with RFE', accuracy_rf_rfe])\n",
        "\n",
        "# 3. Decision Tree with RFE-selected features\n",
        "dt_rfe = DecisionTreeClassifier()\n",
        "dt_rfe.fit(X_train_rfe, y_train)\n",
        "y_pred_dt_rfe = dt_rfe.predict(X_test_rfe)\n",
        "accuracy_dt_rfe = accuracy_score(y_test, y_pred_dt_rfe)\n",
        "results.append(['Decision Tree with RFE', accuracy_dt_rfe])\n",
        "\n",
        "# 4. SVC with Chi-Square-selected features\n",
        "svc_chi2 = SVC()  # Initialize SVC\n",
        "svc_chi2.fit(X_train_chi2, y_train)\n",
        "y_pred_svc_chi2 = svc_chi2.predict(X_test_chi2)\n",
        "accuracy_svc_chi2 = accuracy_score(y_test, y_pred_svc_chi2)\n",
        "results.append(['SVC with Chi-Square', accuracy_svc_chi2])\n",
        "\n",
        "# 5. Extra Trees Classifier with RFE-selected features\n",
        "et_rfe = ExtraTreesClassifier()  # Initialize Extra Trees\n",
        "et_rfe.fit(X_train_rfe, y_train)\n",
        "y_pred_et_rfe = et_rfe.predict(X_test_rfe)\n",
        "accuracy_et_rfe = accuracy_score(y_test, y_pred_et_rfe)\n",
        "results.append(['Extra Trees with RFE', accuracy_et_rfe])\n",
        "\n",
        "# Display the results\n",
        "print(results)\n"
      ],
      "metadata": {
        "colab": {
          "base_uri": "https://localhost:8080/"
        },
        "id": "Dv_UwMwPGB88",
        "outputId": "71f4eaa8-d91c-481c-b1d5-795deb8c2e31"
      },
      "execution_count": null,
      "outputs": [
        {
          "output_type": "stream",
          "name": "stdout",
          "text": [
            "[['Decision Tree with Chi-Square', 1.0], ['Random Forest with RFE', 0.989010989010989], ['Decision Tree with RFE', 1.0], ['SVC with Chi-Square', 0.63003663003663], ['Extra Trees with RFE', 1.0]]\n"
          ]
        }
      ]
    },
    {
      "cell_type": "code",
      "source": [],
      "metadata": {
        "id": "3a1ePtf_HcLF"
      },
      "execution_count": null,
      "outputs": []
    }
  ]
}